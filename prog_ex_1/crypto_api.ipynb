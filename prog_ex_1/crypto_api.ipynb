{
 "cells": [
  {
   "cell_type": "code",
   "execution_count": 66,
   "metadata": {},
   "outputs": [],
   "source": [
    "import requests\n",
    "import json\n",
    "import time\n",
    "from datetime import datetime, timedelta"
   ]
  },
  {
   "cell_type": "code",
   "execution_count": 106,
   "metadata": {},
   "outputs": [
    {
     "name": "stdout",
     "output_type": "stream",
     "text": [
      "True\n"
     ]
    }
   ],
   "source": [
    "r = requests.get('https://api.coingecko.com/api/v3/ping')\n",
    "\n",
    "# Ping CoinGecko\n",
    "print(r.ok)"
   ]
  },
  {
   "cell_type": "code",
   "execution_count": 101,
   "metadata": {},
   "outputs": [],
   "source": [
    "def print_json(data: dict):\n",
    "    data = json.dumps(data, indent=3)\n",
    "    \n",
    "    print(data)"
   ]
  },
  {
   "cell_type": "code",
   "execution_count": 109,
   "metadata": {},
   "outputs": [],
   "source": [
    "def get_coingeko_stats(date: str, display_currency: str) -> dict:\n",
    "    \"\"\"Get cryptocurrency statistics from CoinGecko for a specified date:\n",
    "    \n",
    "    Parameters:\n",
    "    - date: date in format dd-mm-yyyy\n",
    "    - display_currency: usd, eur, gbp, czk, btc, eth, ... \n",
    "    \"\"\"\n",
    "    crypto_ids = ['bitcoin', 'ethereum', 'litecoin', 'bitcoin-cash']\n",
    "    crypto_names = {\n",
    "        'bitcoin': 'bitcoin',\n",
    "        'ethereum': 'ethereum',\n",
    "        'litecoin': 'litecoin',\n",
    "        'bitcoin-cash': 'bitcoin_cash'\n",
    "    }\n",
    "    payload={'date':date}\n",
    "    result = dict()\n",
    "    \n",
    "    for coin in crypto_ids:\n",
    "        r = requests.get('https://api.coingecko.com/api/v3/coins/'+coin+'/history/', params=payload)\n",
    "        data = json.loads(r.content)\n",
    "                    \n",
    "        market_data = data['market_data']\n",
    "        \n",
    "        coin_result = {\n",
    "            'symbol': data['symbol'],\n",
    "            'market_cap': market_data['market_cap'][display_currency],\n",
    "            'current_price': market_data['current_price'][display_currency],\n",
    "            'total_volume': market_data['total_volume'][display_currency]\n",
    "        }\n",
    "        \n",
    "        result[crypto_names[coin]] = coin_result \n",
    "\n",
    "    return result"
   ]
  },
  {
   "cell_type": "code",
   "execution_count": 110,
   "metadata": {},
   "outputs": [],
   "source": [
    "def get_glassnode_stats(date_start='01-01-2020', date_end='02-01-2020', display_currency='usd') -> dict:\n",
    "    \"\"\"Get on-chain cryptocurrency statistics from Glassnode for a specified date:\n",
    "    \n",
    "    Parameters:\n",
    "    - date: date in format dd-mm-yyyy (gets converted to Unix timestamp)\n",
    "    - display_currency: usd or native\n",
    "    \"\"\"\n",
    "    API_KEY='1a6189c3-f990-45c7-970e-2d3b50bbc253'\n",
    "    \n",
    "    start_datetime = datetime.strptime(date_start, '%d-%m-%Y')\n",
    "    end_datetime = datetime.strptime(date_end, '%d-%m-%Y')\n",
    "    \n",
    "    start_unixtime = int(time.mktime(start_datetime.timetuple()))\n",
    "    end_unixtime = int(time.mktime(end_datetime.timetuple()))\n",
    "    \n",
    "    result = dict(bitcoin={}, ethereum={}, litecoin={}, bitcoin_cash={})\n",
    "    \n",
    "    crypto_ids = ['BTC', 'ETH', 'LTC', 'BCH']\n",
    "    \n",
    "    crypto_names = {\n",
    "        'BTC': 'bitcoin',\n",
    "        'ETH': 'ethereum',\n",
    "        'LTC': 'litecoin',\n",
    "        'BCH': 'bitcoin_cash'\n",
    "    }\n",
    "    \n",
    "    request_endpoints = {\n",
    "        'tx_fees':'fees/volume_mean',\n",
    "        'active_adresses':'addresses/active_count',\n",
    "        'tx_count':'transactions/count',\n",
    "        'tx_mean_size':'transactions/transfers_volume_mean',\n",
    "        'non_zero_adress_count':'addresses/non_zero_count'\n",
    "    }\n",
    "    \n",
    "    for coin in crypto_ids:\n",
    "        payload = {'a':coin,'api_key': API_KEY, 's':start_unixtime, 'u':end_unixtime, 'i':'24h', 'c':'usd'}\n",
    "        for metric in request_endpoints:\n",
    "            if metric == 'non_zero_adress_count':\n",
    "                payload['a'] = 'BTC'\n",
    "                r = requests.get('https://api.glassnode.com/v1/metrics/'+request_endpoints[metric], payload)\n",
    "                data = json.loads(r.content)\n",
    "                data = data[0]\n",
    "                result[crypto_names['BTC']][metric] = data['v']\n",
    "            else:\n",
    "                r = requests.get('https://api.glassnode.com/v1/metrics/'+request_endpoints[metric], payload)\n",
    "                data = json.loads(r.content)\n",
    "                data = data[0]\n",
    "                result[crypto_names[coin]][metric] = data['v']\n",
    "                \n",
    "    return result"
   ]
  },
  {
   "cell_type": "code",
   "execution_count": 111,
   "metadata": {},
   "outputs": [],
   "source": [
    "def get_stats(date:str, display_currency='usd') -> dict:\n",
    "    coingecko_ping = requests.get('https://api.coingecko.com/api/v3/ping')\n",
    "    if coingecko_ping.ok:\n",
    "        coingecko_data = get_coingeko_stats(date, 'usd')\n",
    "    else:\n",
    "        print('CoinGecko is down')\n",
    "        return None\n",
    "    \n",
    "    datetime_begin = datetime.strptime(date, '%d-%m-%Y')\n",
    "    datetime_end = datetime_begin + timedelta(days=1)\n",
    "    \n",
    "    date_begin = datetime_begin.strftime('%d-%m-%Y')\n",
    "    date_end = datetime_end.strftime('%d-%m-%Y')\n",
    "    \n",
    "    glassnode_data = get_glassnode_stats(date_begin, date_end, 'usd')\n",
    "    \n",
    "    if glassnode_data == {}:\n",
    "        print(\"Glassnode is down\")\n",
    "        return None\n",
    "    \n",
    "    crypto_names = ['bitcoin', 'ethereum', 'litecoin', 'bitcoin_cash']\n",
    "    result = {\n",
    "        'bitcoin':{},\n",
    "        'ethereum':{},\n",
    "        'litecoin':{},\n",
    "        'bitcoin_cash':{}\n",
    "    }\n",
    "    for coin in crypto_names:\n",
    "        coingecko_data_coin = coingecko_data[coin]\n",
    "        glassnode_data_coin = glassnode_data[coin]\n",
    "        result[coin] = {**coingecko_data_coin,**glassnode_data_coin}\n",
    "    \n",
    "    return result"
   ]
  },
  {
   "cell_type": "code",
   "execution_count": 112,
   "metadata": {},
   "outputs": [
    {
     "name": "stdout",
     "output_type": "stream",
     "text": [
      "{\n",
      "   \"bitcoin\": {\n",
      "      \"symbol\": \"btc\",\n",
      "      \"market_cap\": 228445816988.881,\n",
      "      \"current_price\": 13620.3618741461,\n",
      "      \"total_volume\": 3600481281.03768,\n",
      "      \"tx_fees\": 32.32153712955091,\n",
      "      \"active_adresses\": 1094021,\n",
      "      \"tx_count\": 353824,\n",
      "      \"tx_mean_size\": 95014.72717287869,\n",
      "      \"non_zero_adress_count\": 26517339\n",
      "   },\n",
      "   \"ethereum\": {\n",
      "      \"symbol\": \"eth\",\n",
      "      \"market_cap\": 71238101432.8975,\n",
      "      \"current_price\": 736.909191519636,\n",
      "      \"total_volume\": 1306193221.81905,\n",
      "      \"tx_fees\": 0.6787125022437158,\n",
      "      \"active_adresses\": 543083,\n",
      "      \"tx_count\": 1090191,\n",
      "      \"tx_mean_size\": 13321.89684725972\n",
      "   },\n",
      "   \"litecoin\": {\n",
      "      \"symbol\": \"ltc\",\n",
      "      \"market_cap\": 12185489808.1574,\n",
      "      \"current_price\": 223.400325158751,\n",
      "      \"total_volume\": 569490495.299767,\n",
      "      \"tx_fees\": 0.369016226768022,\n",
      "      \"active_adresses\": 394056,\n",
      "      \"tx_count\": 156079,\n",
      "      \"tx_mean_size\": 55919.77483335565\n",
      "   },\n",
      "   \"bitcoin_cash\": {\n",
      "      \"symbol\": \"bch\",\n",
      "      \"market_cap\": 39862630089.0388,\n",
      "      \"current_price\": 2360.84140670088,\n",
      "      \"total_volume\": 772369324.027622,\n",
      "      \"tx_fees\": 0.2997519928829722,\n",
      "      \"active_adresses\": 319068,\n",
      "      \"tx_count\": 43305,\n",
      "      \"tx_mean_size\": 70276.83441223162\n",
      "   }\n",
      "}\n"
     ]
    }
   ],
   "source": [
    "print_json(get_stats('30-12-2017','usd'))"
   ]
  },
  {
   "cell_type": "code",
   "execution_count": 95,
   "metadata": {},
   "outputs": [
    {
     "name": "stdout",
     "output_type": "stream",
     "text": [
      "{'symbol': 'eth', 'market_cap': 71238101432.8975, 'current_price': 736.909191519636, 'total_volume': 1306193221.81905}\n"
     ]
    }
   ],
   "source": [
    "print(get_coingeko_stats('30-12-2017','usd')['ethereum']) if r.ok else print(\"CoinGecko is down\")"
   ]
  },
  {
   "cell_type": "code",
   "execution_count": 89,
   "metadata": {},
   "outputs": [
    {
     "name": "stdout",
     "output_type": "stream",
     "text": [
      "{'bitcoin': {'tx_fees': 0.3672223907857314, 'active_adresses': 669834, 'tx_count': 293447, 'tx_mean_size': 17924.18497352796, 'non_zero_adress_count': 28219284}, 'ethereum': {'tx_fees': 0.08883370286043067, 'active_adresses': 192465, 'tx_count': 554215, 'tx_mean_size': 1545.089121284722}, 'litecoin': {'tx_fees': 0.02477757007505388, 'active_adresses': 108365, 'tx_count': 19651, 'tx_mean_size': 19574.10253698116}, 'bitcoin_cash': {'tx_fees': 0.004174442444671036, 'active_adresses': 58469, 'tx_count': 19716, 'tx_mean_size': 12325.760163306495}}\n"
     ]
    }
   ],
   "source": [
    "print(get_glassnode_stats())"
   ]
  },
  {
   "cell_type": "code",
   "execution_count": null,
   "metadata": {},
   "outputs": [],
   "source": []
  },
  {
   "cell_type": "code",
   "execution_count": null,
   "metadata": {},
   "outputs": [],
   "source": []
  }
 ],
 "metadata": {
  "kernelspec": {
   "display_name": "Python 3",
   "language": "python",
   "name": "python3"
  },
  "language_info": {
   "codemirror_mode": {
    "name": "ipython",
    "version": 3
   },
   "file_extension": ".py",
   "mimetype": "text/x-python",
   "name": "python",
   "nbconvert_exporter": "python",
   "pygments_lexer": "ipython3",
   "version": "3.7.6"
  }
 },
 "nbformat": 4,
 "nbformat_minor": 4
}
